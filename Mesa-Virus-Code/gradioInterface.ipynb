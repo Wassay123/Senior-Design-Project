{
 "cells": [
  {
   "cell_type": "code",
   "execution_count": 1,
   "metadata": {},
   "outputs": [
    {
     "name": "stdout",
     "output_type": "stream",
     "text": [
      "Running on local URL:  http://127.0.0.1:7860\n",
      "\n",
      "To create a public link, set `share=True` in `launch()`.\n"
     ]
    },
    {
     "data": {
      "text/html": [
       "<div><iframe src=\"http://127.0.0.1:7860/\" width=\"100%\" height=\"500\" allow=\"autoplay; camera; microphone; clipboard-read; clipboard-write;\" frameborder=\"0\" allowfullscreen></iframe></div>"
      ],
      "text/plain": [
       "<IPython.core.display.HTML object>"
      ]
     },
     "metadata": {},
     "output_type": "display_data"
    },
    {
     "data": {
      "text/plain": []
     },
     "execution_count": 1,
     "metadata": {},
     "output_type": "execute_result"
    },
    {
     "name": "stderr",
     "output_type": "stream",
     "text": [
      "c:\\Users\\shu87\\OneDrive\\Documents\\Python_Programming\\MachineLearning\\MachineLearningVirtualEnvironment\\Lib\\site-packages\\altair\\utils\\deprecation.py:65: AltairDeprecationWarning: 'selection' is deprecated.\n",
      "   Use 'selection_point()' or 'selection_interval()' instead; these functions also include more helpful docstrings.\n",
      "  warnings.warn(message, AltairDeprecationWarning, stacklevel=1)\n",
      "c:\\Users\\shu87\\OneDrive\\Documents\\Python_Programming\\MachineLearning\\MachineLearningVirtualEnvironment\\Lib\\site-packages\\altair\\vegalite\\v5\\api.py:450: AltairDeprecationWarning: The types 'single' and 'multi' are now\n",
      "        combined and should be specified using \"selection_point()\".\n",
      "  warnings.warn(\n",
      "c:\\Users\\shu87\\OneDrive\\Documents\\Python_Programming\\MachineLearning\\MachineLearningVirtualEnvironment\\Lib\\site-packages\\altair\\utils\\deprecation.py:65: AltairDeprecationWarning: 'add_selection' is deprecated. Use 'add_params' instead.\n",
      "  warnings.warn(message, AltairDeprecationWarning, stacklevel=1)\n",
      "c:\\Users\\shu87\\OneDrive\\Documents\\Python_Programming\\MachineLearning\\MachineLearningVirtualEnvironment\\Lib\\site-packages\\altair\\utils\\deprecation.py:65: AltairDeprecationWarning: 'selection' is deprecated.\n",
      "   Use 'selection_point()' or 'selection_interval()' instead; these functions also include more helpful docstrings.\n",
      "  warnings.warn(message, AltairDeprecationWarning, stacklevel=1)\n",
      "c:\\Users\\shu87\\OneDrive\\Documents\\Python_Programming\\MachineLearning\\MachineLearningVirtualEnvironment\\Lib\\site-packages\\altair\\vegalite\\v5\\api.py:450: AltairDeprecationWarning: The types 'single' and 'multi' are now\n",
      "        combined and should be specified using \"selection_point()\".\n",
      "  warnings.warn(\n",
      "c:\\Users\\shu87\\OneDrive\\Documents\\Python_Programming\\MachineLearning\\MachineLearningVirtualEnvironment\\Lib\\site-packages\\altair\\utils\\deprecation.py:65: AltairDeprecationWarning: 'add_selection' is deprecated. Use 'add_params' instead.\n",
      "  warnings.warn(message, AltairDeprecationWarning, stacklevel=1)\n",
      "c:\\Users\\shu87\\OneDrive\\Documents\\Python_Programming\\MachineLearning\\MachineLearningVirtualEnvironment\\Lib\\site-packages\\altair\\utils\\deprecation.py:65: AltairDeprecationWarning: 'selection' is deprecated.\n",
      "   Use 'selection_point()' or 'selection_interval()' instead; these functions also include more helpful docstrings.\n",
      "  warnings.warn(message, AltairDeprecationWarning, stacklevel=1)\n",
      "c:\\Users\\shu87\\OneDrive\\Documents\\Python_Programming\\MachineLearning\\MachineLearningVirtualEnvironment\\Lib\\site-packages\\altair\\vegalite\\v5\\api.py:450: AltairDeprecationWarning: The types 'single' and 'multi' are now\n",
      "        combined and should be specified using \"selection_point()\".\n",
      "  warnings.warn(\n",
      "c:\\Users\\shu87\\OneDrive\\Documents\\Python_Programming\\MachineLearning\\MachineLearningVirtualEnvironment\\Lib\\site-packages\\altair\\utils\\deprecation.py:65: AltairDeprecationWarning: 'add_selection' is deprecated. Use 'add_params' instead.\n",
      "  warnings.warn(message, AltairDeprecationWarning, stacklevel=1)\n"
     ]
    }
   ],
   "source": [
    "import math\n",
    "import mesa\n",
    "from virus_on_network.model import VirusOnNetwork, State, number_infected, number_resistant, number_susceptible\n",
    "import gradio as gr\n",
    "import pandas as pd\n",
    "\n",
    "data = {\n",
    "    'Color': ['black'],\n",
    "    'Step': [0],\n",
    "    'NumberOfInfected': [0]\n",
    "}\n",
    "\n",
    "dataFrame = pd.DataFrame(data)\n",
    "\n",
    "def blankGraph(initOutbreakSlider):\n",
    "    newData = {\n",
    "        'Color': 'black',\n",
    "        'Step': 0,\n",
    "        'NumberOfInfected': initOutbreakSlider\n",
    "    }\n",
    "\n",
    "    dataFrame.loc[0] = newData\n",
    "    return gr.LinePlot(dataFrame, x='Step', y='NumberOfInfected', color='Color', color_legend_position='bottom', title='Step vs Number of Infected', height=200, width=500 )\n",
    "\n",
    "\n",
    "# Define a function to run the model and return the number of infected agents\n",
    "def run_model(num_nodes, avg_node_degree, initial_outbreak_size, virus_spread_chance, virus_check_frequency, recovery_chance, gain_resistance_chance, num_steps):\n",
    "    \n",
    "    model = VirusOnNetwork(\n",
    "        num_nodes=num_nodes,\n",
    "        avg_node_degree=avg_node_degree,\n",
    "        initial_outbreak_size=initial_outbreak_size,\n",
    "        virus_spread_chance=virus_spread_chance,\n",
    "        virus_check_frequency=virus_check_frequency,\n",
    "        recovery_chance=recovery_chance,\n",
    "        gain_resistance_chance=gain_resistance_chance\n",
    "    )\n",
    "    model.step()\n",
    "    numOfInfected = number_infected(model)\n",
    "\n",
    "    newData = {\n",
    "        'Color': 'black',\n",
    "        'Step': dataFrame['Step'].iloc[-1] + 1,\n",
    "        'NumberOfInfected': numOfInfected\n",
    "    }\n",
    "\n",
    "    dataFrame.loc[dataFrame['Step'].iloc[-1]+1] = newData\n",
    "\n",
    "    fig = gr.LinePlot(dataFrame, x='Step', y='NumberOfInfected', color='Color', color_legend_position='bottom', title='Step vs Number of Infected', height=200, width=500 )\n",
    "    return model.num_nodes, fig\n",
    "    # num_infected = model.datacollector.model_vars[\"Infected\"][-1]\n",
    "    # return f\"Number of infected agents: {num_infected}\"\n",
    "\n",
    "# sets the interface\n",
    "with gr.Blocks() as demo:\n",
    "    with gr.Row():\n",
    "        with gr.Column():\n",
    "            numOfAgents = gr.Slider(minimum=10, maximum=100, step=10, value=10, label='Number of Agents')\n",
    "            avgNodeDegree = gr.Slider(minimum=3, maximum=8, step=3, value=3, label=\"Avg Node Degree\")\n",
    "            initOutbreakSize = gr.Slider(minimum=1, maximum=10, step=1, value=1, label=\"Initial Outbreak Size\")\n",
    "            virusSpreadChance = gr.Slider(minimum=0.0, maximum=1.0, step=0.1, value=0.4, label=\"Virus Spread Chance\")\n",
    "            virusCheckFrequency = gr.Slider(minimum=0.0, maximum=1.0, step=0.1, value=0.4, label=\"Virus Check Frequency\")\n",
    "            recoveryChance = gr.Slider(minimum=0.0, maximum=1.0, step=0.1, value=0.3, label=\"Recovery Chance\")\n",
    "            gainResistanceChance = gr.Slider(minimum=0.0, maximum=1.0, step=0.1, value=0.5, label=\"Gain Resistance Chance\")\n",
    "            numOfSteps = gr.Slider(minimum=1, maximum=100, step=10, label=\"Number of Steps\")\n",
    "\n",
    "        with gr.Column():\n",
    "            totalNumberOfNodes = gr.Textbox(label='Number of Nodes')\n",
    "            numInfectedGraph = gr.LinePlot(label='Number of Infected Nodes')\n",
    "            stepButton = gr.Button(value=\"Step\")\n",
    "        demo.load(blankGraph, inputs=initOutbreakSize, outputs=numInfectedGraph)\n",
    "        \n",
    "        stepButton.click(run_model, inputs=[numOfAgents, avgNodeDegree, initOutbreakSize, virusSpreadChance, \n",
    "                                         virusCheckFrequency, recoveryChance, gainResistanceChance, numOfSteps], \n",
    "                                         outputs=[totalNumberOfNodes, numInfectedGraph])\n",
    "\n",
    "\n",
    "# Launch the Gradio interface\n",
    "demo.launch(show_api=False)\n"
   ]
  }
 ],
 "metadata": {
  "kernelspec": {
   "display_name": "MachineLearningVirtualEnvironment",
   "language": "python",
   "name": "python3"
  },
  "language_info": {
   "codemirror_mode": {
    "name": "ipython",
    "version": 3
   },
   "file_extension": ".py",
   "mimetype": "text/x-python",
   "name": "python",
   "nbconvert_exporter": "python",
   "pygments_lexer": "ipython3",
   "version": "3.11.3"
  }
 },
 "nbformat": 4,
 "nbformat_minor": 2
}
