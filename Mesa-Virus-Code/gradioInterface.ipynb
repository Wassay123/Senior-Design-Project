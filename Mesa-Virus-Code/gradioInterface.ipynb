{
 "cells": [
  {
   "cell_type": "code",
   "execution_count": 87,
   "metadata": {},
   "outputs": [
    {
     "name": "stdout",
     "output_type": "stream",
     "text": [
      "Running on local URL:  http://127.0.0.1:7924\n",
      "\n",
      "To create a public link, set `share=True` in `launch()`.\n"
     ]
    },
    {
     "data": {
      "text/html": [
       "<div><iframe src=\"http://127.0.0.1:7924/\" width=\"100%\" height=\"500\" allow=\"autoplay; camera; microphone; clipboard-read; clipboard-write;\" frameborder=\"0\" allowfullscreen></iframe></div>"
      ],
      "text/plain": [
       "<IPython.core.display.HTML object>"
      ]
     },
     "metadata": {},
     "output_type": "display_data"
    },
    {
     "data": {
      "text/plain": []
     },
     "execution_count": 87,
     "metadata": {},
     "output_type": "execute_result"
    },
    {
     "name": "stdout",
     "output_type": "stream",
     "text": [
      "   Color  Step  NumberOfInfected\n",
      "0  black     0                 1\n"
     ]
    },
    {
     "name": "stderr",
     "output_type": "stream",
     "text": [
      "c:\\Users\\shu87\\OneDrive\\Documents\\Python_Programming\\MachineLearning\\MachineLearningVirtualEnvironment\\Lib\\site-packages\\altair\\utils\\deprecation.py:65: AltairDeprecationWarning: 'selection' is deprecated.\n",
      "   Use 'selection_point()' or 'selection_interval()' instead; these functions also include more helpful docstrings.\n",
      "  warnings.warn(message, AltairDeprecationWarning, stacklevel=1)\n",
      "c:\\Users\\shu87\\OneDrive\\Documents\\Python_Programming\\MachineLearning\\MachineLearningVirtualEnvironment\\Lib\\site-packages\\altair\\vegalite\\v5\\api.py:450: AltairDeprecationWarning: The types 'single' and 'multi' are now\n",
      "        combined and should be specified using \"selection_point()\".\n",
      "  warnings.warn(\n",
      "c:\\Users\\shu87\\OneDrive\\Documents\\Python_Programming\\MachineLearning\\MachineLearningVirtualEnvironment\\Lib\\site-packages\\altair\\utils\\deprecation.py:65: AltairDeprecationWarning: 'add_selection' is deprecated. Use 'add_params' instead.\n",
      "  warnings.warn(message, AltairDeprecationWarning, stacklevel=1)\n",
      "c:\\Users\\shu87\\OneDrive\\Documents\\Python_Programming\\MachineLearning\\MachineLearningVirtualEnvironment\\Lib\\site-packages\\altair\\utils\\deprecation.py:65: AltairDeprecationWarning: 'selection' is deprecated.\n",
      "   Use 'selection_point()' or 'selection_interval()' instead; these functions also include more helpful docstrings.\n",
      "  warnings.warn(message, AltairDeprecationWarning, stacklevel=1)\n",
      "c:\\Users\\shu87\\OneDrive\\Documents\\Python_Programming\\MachineLearning\\MachineLearningVirtualEnvironment\\Lib\\site-packages\\altair\\vegalite\\v5\\api.py:450: AltairDeprecationWarning: The types 'single' and 'multi' are now\n",
      "        combined and should be specified using \"selection_point()\".\n",
      "  warnings.warn(\n",
      "c:\\Users\\shu87\\OneDrive\\Documents\\Python_Programming\\MachineLearning\\MachineLearningVirtualEnvironment\\Lib\\site-packages\\altair\\utils\\deprecation.py:65: AltairDeprecationWarning: 'add_selection' is deprecated. Use 'add_params' instead.\n",
      "  warnings.warn(message, AltairDeprecationWarning, stacklevel=1)\n",
      "c:\\Users\\shu87\\OneDrive\\Documents\\Python_Programming\\MachineLearning\\MachineLearningVirtualEnvironment\\Lib\\site-packages\\altair\\utils\\deprecation.py:65: AltairDeprecationWarning: 'selection' is deprecated.\n",
      "   Use 'selection_point()' or 'selection_interval()' instead; these functions also include more helpful docstrings.\n",
      "  warnings.warn(message, AltairDeprecationWarning, stacklevel=1)\n",
      "c:\\Users\\shu87\\OneDrive\\Documents\\Python_Programming\\MachineLearning\\MachineLearningVirtualEnvironment\\Lib\\site-packages\\altair\\vegalite\\v5\\api.py:450: AltairDeprecationWarning: The types 'single' and 'multi' are now\n",
      "        combined and should be specified using \"selection_point()\".\n",
      "  warnings.warn(\n",
      "c:\\Users\\shu87\\OneDrive\\Documents\\Python_Programming\\MachineLearning\\MachineLearningVirtualEnvironment\\Lib\\site-packages\\altair\\utils\\deprecation.py:65: AltairDeprecationWarning: 'add_selection' is deprecated. Use 'add_params' instead.\n",
      "  warnings.warn(message, AltairDeprecationWarning, stacklevel=1)\n",
      "c:\\Users\\shu87\\OneDrive\\Documents\\Python_Programming\\MachineLearning\\MachineLearningVirtualEnvironment\\Lib\\site-packages\\altair\\utils\\deprecation.py:65: AltairDeprecationWarning: 'selection' is deprecated.\n",
      "   Use 'selection_point()' or 'selection_interval()' instead; these functions also include more helpful docstrings.\n",
      "  warnings.warn(message, AltairDeprecationWarning, stacklevel=1)\n",
      "c:\\Users\\shu87\\OneDrive\\Documents\\Python_Programming\\MachineLearning\\MachineLearningVirtualEnvironment\\Lib\\site-packages\\altair\\vegalite\\v5\\api.py:450: AltairDeprecationWarning: The types 'single' and 'multi' are now\n",
      "        combined and should be specified using \"selection_point()\".\n",
      "  warnings.warn(\n",
      "c:\\Users\\shu87\\OneDrive\\Documents\\Python_Programming\\MachineLearning\\MachineLearningVirtualEnvironment\\Lib\\site-packages\\altair\\utils\\deprecation.py:65: AltairDeprecationWarning: 'add_selection' is deprecated. Use 'add_params' instead.\n",
      "  warnings.warn(message, AltairDeprecationWarning, stacklevel=1)\n"
     ]
    },
    {
     "name": "stdout",
     "output_type": "stream",
     "text": [
      "   Color  Step  NumberOfInfected\n",
      "0  black     0                 1\n",
      "1  black     1                 3\n",
      "2  black     2                 3\n",
      "3  black     3                 1\n"
     ]
    },
    {
     "name": "stderr",
     "output_type": "stream",
     "text": [
      "c:\\Users\\shu87\\OneDrive\\Documents\\Python_Programming\\MachineLearning\\MachineLearningVirtualEnvironment\\Lib\\site-packages\\altair\\utils\\deprecation.py:65: AltairDeprecationWarning: 'selection' is deprecated.\n",
      "   Use 'selection_point()' or 'selection_interval()' instead; these functions also include more helpful docstrings.\n",
      "  warnings.warn(message, AltairDeprecationWarning, stacklevel=1)\n",
      "c:\\Users\\shu87\\OneDrive\\Documents\\Python_Programming\\MachineLearning\\MachineLearningVirtualEnvironment\\Lib\\site-packages\\altair\\vegalite\\v5\\api.py:450: AltairDeprecationWarning: The types 'single' and 'multi' are now\n",
      "        combined and should be specified using \"selection_point()\".\n",
      "  warnings.warn(\n",
      "c:\\Users\\shu87\\OneDrive\\Documents\\Python_Programming\\MachineLearning\\MachineLearningVirtualEnvironment\\Lib\\site-packages\\altair\\utils\\deprecation.py:65: AltairDeprecationWarning: 'add_selection' is deprecated. Use 'add_params' instead.\n",
      "  warnings.warn(message, AltairDeprecationWarning, stacklevel=1)\n",
      "c:\\Users\\shu87\\OneDrive\\Documents\\Python_Programming\\MachineLearning\\MachineLearningVirtualEnvironment\\Lib\\site-packages\\altair\\utils\\deprecation.py:65: AltairDeprecationWarning: 'selection' is deprecated.\n",
      "   Use 'selection_point()' or 'selection_interval()' instead; these functions also include more helpful docstrings.\n",
      "  warnings.warn(message, AltairDeprecationWarning, stacklevel=1)\n",
      "c:\\Users\\shu87\\OneDrive\\Documents\\Python_Programming\\MachineLearning\\MachineLearningVirtualEnvironment\\Lib\\site-packages\\altair\\vegalite\\v5\\api.py:450: AltairDeprecationWarning: The types 'single' and 'multi' are now\n",
      "        combined and should be specified using \"selection_point()\".\n",
      "  warnings.warn(\n",
      "c:\\Users\\shu87\\OneDrive\\Documents\\Python_Programming\\MachineLearning\\MachineLearningVirtualEnvironment\\Lib\\site-packages\\altair\\utils\\deprecation.py:65: AltairDeprecationWarning: 'add_selection' is deprecated. Use 'add_params' instead.\n",
      "  warnings.warn(message, AltairDeprecationWarning, stacklevel=1)\n",
      "c:\\Users\\shu87\\OneDrive\\Documents\\Python_Programming\\MachineLearning\\MachineLearningVirtualEnvironment\\Lib\\site-packages\\altair\\utils\\deprecation.py:65: AltairDeprecationWarning: 'selection' is deprecated.\n",
      "   Use 'selection_point()' or 'selection_interval()' instead; these functions also include more helpful docstrings.\n",
      "  warnings.warn(message, AltairDeprecationWarning, stacklevel=1)\n",
      "c:\\Users\\shu87\\OneDrive\\Documents\\Python_Programming\\MachineLearning\\MachineLearningVirtualEnvironment\\Lib\\site-packages\\altair\\vegalite\\v5\\api.py:450: AltairDeprecationWarning: The types 'single' and 'multi' are now\n",
      "        combined and should be specified using \"selection_point()\".\n",
      "  warnings.warn(\n",
      "c:\\Users\\shu87\\OneDrive\\Documents\\Python_Programming\\MachineLearning\\MachineLearningVirtualEnvironment\\Lib\\site-packages\\altair\\utils\\deprecation.py:65: AltairDeprecationWarning: 'add_selection' is deprecated. Use 'add_params' instead.\n",
      "  warnings.warn(message, AltairDeprecationWarning, stacklevel=1)\n",
      "c:\\Users\\shu87\\OneDrive\\Documents\\Python_Programming\\MachineLearning\\MachineLearningVirtualEnvironment\\Lib\\site-packages\\altair\\utils\\deprecation.py:65: AltairDeprecationWarning: 'selection' is deprecated.\n",
      "   Use 'selection_point()' or 'selection_interval()' instead; these functions also include more helpful docstrings.\n",
      "  warnings.warn(message, AltairDeprecationWarning, stacklevel=1)\n",
      "c:\\Users\\shu87\\OneDrive\\Documents\\Python_Programming\\MachineLearning\\MachineLearningVirtualEnvironment\\Lib\\site-packages\\altair\\vegalite\\v5\\api.py:450: AltairDeprecationWarning: The types 'single' and 'multi' are now\n",
      "        combined and should be specified using \"selection_point()\".\n",
      "  warnings.warn(\n",
      "c:\\Users\\shu87\\OneDrive\\Documents\\Python_Programming\\MachineLearning\\MachineLearningVirtualEnvironment\\Lib\\site-packages\\altair\\utils\\deprecation.py:65: AltairDeprecationWarning: 'add_selection' is deprecated. Use 'add_params' instead.\n",
      "  warnings.warn(message, AltairDeprecationWarning, stacklevel=1)\n",
      "c:\\Users\\shu87\\OneDrive\\Documents\\Python_Programming\\MachineLearning\\MachineLearningVirtualEnvironment\\Lib\\site-packages\\altair\\utils\\deprecation.py:65: AltairDeprecationWarning: 'selection' is deprecated.\n",
      "   Use 'selection_point()' or 'selection_interval()' instead; these functions also include more helpful docstrings.\n",
      "  warnings.warn(message, AltairDeprecationWarning, stacklevel=1)\n",
      "c:\\Users\\shu87\\OneDrive\\Documents\\Python_Programming\\MachineLearning\\MachineLearningVirtualEnvironment\\Lib\\site-packages\\altair\\vegalite\\v5\\api.py:450: AltairDeprecationWarning: The types 'single' and 'multi' are now\n",
      "        combined and should be specified using \"selection_point()\".\n",
      "  warnings.warn(\n",
      "c:\\Users\\shu87\\OneDrive\\Documents\\Python_Programming\\MachineLearning\\MachineLearningVirtualEnvironment\\Lib\\site-packages\\altair\\utils\\deprecation.py:65: AltairDeprecationWarning: 'add_selection' is deprecated. Use 'add_params' instead.\n",
      "  warnings.warn(message, AltairDeprecationWarning, stacklevel=1)\n"
     ]
    }
   ],
   "source": [
    "import math\n",
    "import mesa\n",
    "from virus_on_network.model import VirusOnNetwork, State, number_infected, number_resistant, number_susceptible\n",
    "import gradio as gr\n",
    "import pandas as pd\n",
    "\n",
    "data = {\n",
    "    'Color': ['black'],\n",
    "    'Step': [0],\n",
    "    'NumberOfInfected': [0]\n",
    "}\n",
    "\n",
    "dataFrame = pd.DataFrame(data)\n",
    "\n",
    "def blankGraph(initOutbreakSlider):\n",
    "    newData = {\n",
    "        'Color': 'black',\n",
    "        'Step': 0,\n",
    "        'NumberOfInfected': initOutbreakSlider\n",
    "    }\n",
    "\n",
    "    dataFrame.loc[0] = newData\n",
    "    print(dataFrame)\n",
    "    return gr.LinePlot(dataFrame, x='Step', y='NumberOfInfected', color='Color', color_legend_position='bottom', title='Step vs Number of Infected', height=200, width=500 )\n",
    "\n",
    "\n",
    "# Define a function to run the model and return the number of infected agents\n",
    "def run_model(num_nodes, avg_node_degree, initial_outbreak_size, virus_spread_chance, virus_check_frequency, recovery_chance, gain_resistance_chance, num_steps):\n",
    "    \n",
    "    model = VirusOnNetwork(\n",
    "        num_nodes=num_nodes,\n",
    "        avg_node_degree=avg_node_degree,\n",
    "        initial_outbreak_size=initial_outbreak_size,\n",
    "        virus_spread_chance=virus_spread_chance,\n",
    "        virus_check_frequency=virus_check_frequency,\n",
    "        recovery_chance=recovery_chance,\n",
    "        gain_resistance_chance=gain_resistance_chance\n",
    "    )\n",
    "    model.step()\n",
    "    numOfInfected = number_infected(model)\n",
    "\n",
    "    newData = {\n",
    "        'Color': 'black',\n",
    "        'Step': dataFrame['Step'].iloc[-1] + 1,\n",
    "        'NumberOfInfected': numOfInfected\n",
    "    }\n",
    "\n",
    "    dataFrame.loc[dataFrame['Step'].iloc[-1]+1] = newData\n",
    "\n",
    "    fig = gr.LinePlot(dataFrame, x='Step', y='NumberOfInfected', color='Color', color_legend_position='bottom', title='Step vs Number of Infected', height=200, width=500 )\n",
    "    return model.num_nodes, fig\n",
    "    # num_infected = model.datacollector.model_vars[\"Infected\"][-1]\n",
    "    # return f\"Number of infected agents: {num_infected}\"\n",
    "\n",
    "# sets the interface\n",
    "with gr.Blocks() as demo:\n",
    "    with gr.Row():\n",
    "        with gr.Column():\n",
    "            numOfAgents = gr.Slider(minimum=10, maximum=100, step=10, value=10, label='Number of Agents')\n",
    "            avgNodeDegree = gr.Slider(minimum=3, maximum=8, step=3, value=3, label=\"Avg Node Degree\")\n",
    "            initOutbreakSize = gr.Slider(minimum=1, maximum=10, step=1, value=1, label=\"Initial Outbreak Size\")\n",
    "            virusSpreadChance = gr.Slider(minimum=0.0, maximum=1.0, step=0.1, value=0.4, label=\"Virus Spread Chance\")\n",
    "            virusCheckFrequency = gr.Slider(minimum=0.0, maximum=1.0, step=0.1, value=0.4, label=\"Virus Check Frequency\")\n",
    "            recoveryChance = gr.Slider(minimum=0.0, maximum=1.0, step=0.1, value=0.3, label=\"Recovery Chance\")\n",
    "            gainResistanceChance = gr.Slider(minimum=0.0, maximum=1.0, step=0.1, value=0.5, label=\"Gain Resistance Chance\")\n",
    "            numOfSteps = gr.Slider(minimum=1, maximum=100, step=10, label=\"Number of Steps\")\n",
    "\n",
    "        with gr.Column():\n",
    "            totalNumberOfNodes = gr.Textbox(label='Number of Nodes')\n",
    "            numInfectedGraph = gr.LinePlot(label='Number of Infected Nodes')\n",
    "            stepButton = gr.Button(value=\"Step\")\n",
    "        demo.load(blankGraph, inputs=initOutbreakSize, outputs=numInfectedGraph)\n",
    "        \n",
    "        stepButton.click(run_model, inputs=[numOfAgents, avgNodeDegree, initOutbreakSize, virusSpreadChance, \n",
    "                                         virusCheckFrequency, recoveryChance, gainResistanceChance, numOfSteps], \n",
    "                                         outputs=[totalNumberOfNodes, numInfectedGraph])\n",
    "\n",
    "\n",
    "# Launch the Gradio interface\n",
    "demo.launch(show_api=False)\n"
   ]
  },
  {
   "cell_type": "code",
   "execution_count": null,
   "metadata": {},
   "outputs": [],
   "source": []
  },
  {
   "cell_type": "code",
   "execution_count": 28,
   "metadata": {},
   "outputs": [
    {
     "name": "stderr",
     "output_type": "stream",
     "text": [
      "c:\\Users\\shu87\\OneDrive\\Documents\\Python_Programming\\MachineLearning\\MachineLearningVirtualEnvironment\\Lib\\site-packages\\gradio\\blocks.py:902: UserWarning: api_name create_plot already exists, using create_plot_1\n",
      "  warnings.warn(f\"api_name {api_name} already exists, using {api_name_}\")\n"
     ]
    },
    {
     "name": "stdout",
     "output_type": "stream",
     "text": [
      "Running on local URL:  http://127.0.0.1:7877\n",
      "\n",
      "To create a public link, set `share=True` in `launch()`.\n"
     ]
    },
    {
     "data": {
      "text/html": [
       "<div><iframe src=\"http://127.0.0.1:7877/\" width=\"100%\" height=\"500\" allow=\"autoplay; camera; microphone; clipboard-read; clipboard-write;\" frameborder=\"0\" allowfullscreen></iframe></div>"
      ],
      "text/plain": [
       "<IPython.core.display.HTML object>"
      ]
     },
     "metadata": {},
     "output_type": "display_data"
    },
    {
     "data": {
      "text/plain": []
     },
     "execution_count": 28,
     "metadata": {},
     "output_type": "execute_result"
    },
    {
     "name": "stderr",
     "output_type": "stream",
     "text": [
      "c:\\Users\\shu87\\OneDrive\\Documents\\Python_Programming\\MachineLearning\\MachineLearningVirtualEnvironment\\Lib\\site-packages\\altair\\utils\\deprecation.py:65: AltairDeprecationWarning: 'selection' is deprecated.\n",
      "   Use 'selection_point()' or 'selection_interval()' instead; these functions also include more helpful docstrings.\n",
      "  warnings.warn(message, AltairDeprecationWarning, stacklevel=1)\n",
      "c:\\Users\\shu87\\OneDrive\\Documents\\Python_Programming\\MachineLearning\\MachineLearningVirtualEnvironment\\Lib\\site-packages\\altair\\vegalite\\v5\\api.py:450: AltairDeprecationWarning: The types 'single' and 'multi' are now\n",
      "        combined and should be specified using \"selection_point()\".\n",
      "  warnings.warn(\n",
      "c:\\Users\\shu87\\OneDrive\\Documents\\Python_Programming\\MachineLearning\\MachineLearningVirtualEnvironment\\Lib\\site-packages\\altair\\utils\\deprecation.py:65: AltairDeprecationWarning: 'add_selection' is deprecated. Use 'add_params' instead.\n",
      "  warnings.warn(message, AltairDeprecationWarning, stacklevel=1)\n",
      "c:\\Users\\shu87\\OneDrive\\Documents\\Python_Programming\\MachineLearning\\MachineLearningVirtualEnvironment\\Lib\\site-packages\\altair\\utils\\deprecation.py:65: AltairDeprecationWarning: 'selection' is deprecated.\n",
      "   Use 'selection_point()' or 'selection_interval()' instead; these functions also include more helpful docstrings.\n",
      "  warnings.warn(message, AltairDeprecationWarning, stacklevel=1)\n",
      "c:\\Users\\shu87\\OneDrive\\Documents\\Python_Programming\\MachineLearning\\MachineLearningVirtualEnvironment\\Lib\\site-packages\\altair\\vegalite\\v5\\api.py:450: AltairDeprecationWarning: The types 'single' and 'multi' are now\n",
      "        combined and should be specified using \"selection_point()\".\n",
      "  warnings.warn(\n",
      "c:\\Users\\shu87\\OneDrive\\Documents\\Python_Programming\\MachineLearning\\MachineLearningVirtualEnvironment\\Lib\\site-packages\\altair\\utils\\deprecation.py:65: AltairDeprecationWarning: 'add_selection' is deprecated. Use 'add_params' instead.\n",
      "  warnings.warn(message, AltairDeprecationWarning, stacklevel=1)\n",
      "c:\\Users\\shu87\\OneDrive\\Documents\\Python_Programming\\MachineLearning\\MachineLearningVirtualEnvironment\\Lib\\site-packages\\altair\\utils\\deprecation.py:65: AltairDeprecationWarning: 'selection' is deprecated.\n",
      "   Use 'selection_point()' or 'selection_interval()' instead; these functions also include more helpful docstrings.\n",
      "  warnings.warn(message, AltairDeprecationWarning, stacklevel=1)\n",
      "c:\\Users\\shu87\\OneDrive\\Documents\\Python_Programming\\MachineLearning\\MachineLearningVirtualEnvironment\\Lib\\site-packages\\altair\\vegalite\\v5\\api.py:450: AltairDeprecationWarning: The types 'single' and 'multi' are now\n",
      "        combined and should be specified using \"selection_point()\".\n",
      "  warnings.warn(\n",
      "c:\\Users\\shu87\\OneDrive\\Documents\\Python_Programming\\MachineLearning\\MachineLearningVirtualEnvironment\\Lib\\site-packages\\altair\\utils\\deprecation.py:65: AltairDeprecationWarning: 'add_selection' is deprecated. Use 'add_params' instead.\n",
      "  warnings.warn(message, AltairDeprecationWarning, stacklevel=1)\n"
     ]
    }
   ],
   "source": [
    "import gradio as gr\n",
    "import pandas as pd\n",
    "\n",
    "data = {\n",
    "        \"Stock\": [\"Apple\", \"Apple\", \"Apple\", \"Apple\", \"Apple\"],\n",
    "        \"Cost\": [100, 120, 130, 200, 400], \n",
    "        \"Day\" : [1, 2, 3, 4, 5]\n",
    "    }\n",
    "df = pd.DataFrame(data)\n",
    "\n",
    "def create_plot(newCost):\n",
    "    \n",
    "    newData = {\n",
    "        'Stock': 'Apple',\n",
    "        'Cost': newCost,\n",
    "        'Day': df['Day'].iloc[-1] + 1\n",
    "        }\n",
    "    df.loc[df['Day'].iloc[-1]] = newData\n",
    "\n",
    "    fig = gr.LinePlot(df, x='Day', y='Cost', color='Stock', color_legend_position='bottom', title='Cost vs Time', height=300, width=500)\n",
    "    \n",
    "    return fig\n",
    "\n",
    "# Create the Gradio interface\n",
    "with gr.Blocks() as iface:\n",
    "    with gr.Row():\n",
    "        with gr.Column():\n",
    "            textBox = gr.Textbox(label='Input')\n",
    "            button = gr.Button()\n",
    "        with gr.Column():\n",
    "            plot = gr.LinePlot()\n",
    "    button.click(create_plot, inputs=textBox, outputs=plot)\n",
    "    iface.load(create_plot, inputs=textBox, outputs=plot)\n",
    "\n",
    "\n",
    "iface.launch(show_api=False)\n"
   ]
  },
  {
   "cell_type": "code",
   "execution_count": 9,
   "metadata": {},
   "outputs": [
    {
     "name": "stdout",
     "output_type": "stream",
     "text": [
      "Closing server running on port: 7862\n"
     ]
    }
   ],
   "source": [
    "iface.close()"
   ]
  },
  {
   "cell_type": "code",
   "execution_count": 75,
   "metadata": {},
   "outputs": [
    {
     "name": "stdout",
     "output_type": "stream",
     "text": [
      "Slider Value: 5\n"
     ]
    }
   ],
   "source": [
    "import gradio as gr\n",
    "\n",
    "# Create a Slider component\n",
    "my_slider = gr.Slider(minimum=0, maximum=10, step=1, value=5, label=\"My Slider\")\n",
    "\n",
    "# Access the value of the Slider\n",
    "slider_value = my_slider.value\n",
    "\n",
    "# Print the value\n",
    "print(\"Slider Value:\", slider_value)\n"
   ]
  }
 ],
 "metadata": {
  "kernelspec": {
   "display_name": "MachineLearningVirtualEnvironment",
   "language": "python",
   "name": "python3"
  },
  "language_info": {
   "codemirror_mode": {
    "name": "ipython",
    "version": 3
   },
   "file_extension": ".py",
   "mimetype": "text/x-python",
   "name": "python",
   "nbconvert_exporter": "python",
   "pygments_lexer": "ipython3",
   "version": "3.11.3"
  }
 },
 "nbformat": 4,
 "nbformat_minor": 2
}
